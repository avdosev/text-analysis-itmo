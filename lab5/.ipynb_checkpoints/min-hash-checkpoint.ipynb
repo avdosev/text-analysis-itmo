{
 "cells": [
  {
   "cell_type": "code",
   "execution_count": 67,
   "metadata": {},
   "outputs": [],
   "source": [
    "import numpy as np\n",
    "import pandas as pd\n",
    "import json\n",
    "import scipy.sparse as sp\n",
    "import os\n",
    "import re\n",
    "from itertools import chain\n",
    "import random"
   ]
  },
  {
   "cell_type": "code",
   "execution_count": 68,
   "metadata": {},
   "outputs": [],
   "source": [
    "os.chdir('C:/projects/itmo/text-anal/')\n",
    "random.seed(69)"
   ]
  },
  {
   "cell_type": "code",
   "execution_count": 29,
   "metadata": {},
   "outputs": [],
   "source": [
    "def load_documents():\n",
    "    docs = pd.read_csv('data/Tweets.csv')\n",
    "    return list(enumerate(docs['text'].values.astype(str)))"
   ]
  },
  {
   "cell_type": "code",
   "execution_count": 30,
   "metadata": {},
   "outputs": [],
   "source": [
    "documents = load_documents()"
   ]
  },
  {
   "cell_type": "code",
   "execution_count": 31,
   "metadata": {},
   "outputs": [
    {
     "data": {
      "text/plain": [
       "[(0, ' I`d have responded, if I were going'),\n",
       " (1, ' Sooo SAD I will miss you here in San Diego!!!'),\n",
       " (2, 'my boss is bullying me...'),\n",
       " (3, ' what interview! leave me alone')]"
      ]
     },
     "execution_count": 31,
     "metadata": {},
     "output_type": "execute_result"
    }
   ],
   "source": [
    "documents[:4]"
   ]
  },
  {
   "cell_type": "code",
   "execution_count": 48,
   "metadata": {},
   "outputs": [],
   "source": [
    "def tokenize(documents):\n",
    "    sep = re.compile(r'[\\W_]+')\n",
    "    wnsplit = re.compile(r'[`\\'\"-=]')\n",
    "    result = []\n",
    "    for doc_id, doc in documents:\n",
    "        doc = re.sub(wnsplit, '', doc)\n",
    "        result.append((doc_id, [word for word in re.split(sep, doc.lower()) if len(word) != 0]))\n",
    "    return result"
   ]
  },
  {
   "cell_type": "code",
   "execution_count": 49,
   "metadata": {},
   "outputs": [],
   "source": [
    "doc2terms = tokenize(documents)"
   ]
  },
  {
   "cell_type": "code",
   "execution_count": 50,
   "metadata": {
    "scrolled": true
   },
   "outputs": [
    {
     "data": {
      "text/plain": [
       "[(0, ['id', 'have', 'responded', 'if', 'i', 'were', 'going']),\n",
       " (1,\n",
       "  ['sooo', 'sad', 'i', 'will', 'miss', 'you', 'here', 'in', 'san', 'diego']),\n",
       " (2, ['my', 'boss', 'is', 'bullying', 'me']),\n",
       " (3, ['what', 'interview', 'leave', 'me', 'alone'])]"
      ]
     },
     "execution_count": 50,
     "metadata": {},
     "output_type": "execute_result"
    }
   ],
   "source": [
    "doc2terms[:4]"
   ]
  },
  {
   "cell_type": "code",
   "execution_count": 51,
   "metadata": {},
   "outputs": [],
   "source": [
    "bag_of_words = sorted(set(chain.from_iterable(terms for doc_id, terms in doc2terms)))"
   ]
  },
  {
   "cell_type": "code",
   "execution_count": 52,
   "metadata": {},
   "outputs": [
    {
     "data": {
      "text/plain": [
       "['a', 'aa', 'aaa', 'aaaa']"
      ]
     },
     "execution_count": 52,
     "metadata": {},
     "output_type": "execute_result"
    }
   ],
   "source": [
    "bag_of_words[:4]"
   ]
  },
  {
   "cell_type": "code",
   "execution_count": 53,
   "metadata": {},
   "outputs": [
    {
     "data": {
      "text/plain": [
       "27838"
      ]
     },
     "execution_count": 53,
     "metadata": {},
     "output_type": "execute_result"
    }
   ],
   "source": [
    "len(bag_of_words)"
   ]
  },
  {
   "cell_type": "code",
   "execution_count": 70,
   "metadata": {},
   "outputs": [],
   "source": [
    "def make_shufled(terms_size, count):\n",
    "    def shuffled(lst):\n",
    "        lst = list(lst)\n",
    "        random.shuffle(lst)\n",
    "        return lst\n",
    "    return [ shuffled(range(terms_size)) for _ in range(count) ]"
   ]
  },
  {
   "cell_type": "code",
   "execution_count": 71,
   "metadata": {},
   "outputs": [],
   "source": [
    "shufled_indexes = make_shufled(len(bag_of_words), 64)"
   ]
  },
  {
   "cell_type": "markdown",
   "metadata": {},
   "source": [
    "| name | value |\n",
    "| --- | --- |\n",
    "shufled_indexes | list(indexes) \n",
    "indexes | list(index) \n",
    "index | int \\[0, len(bag_of_words)\\]"
   ]
  },
  {
   "cell_type": "code",
   "execution_count": null,
   "metadata": {},
   "outputs": [],
   "source": []
  },
  {
   "cell_type": "code",
   "execution_count": 16,
   "metadata": {},
   "outputs": [],
   "source": [
    "def minhash(doc2term):\n",
    "    i = np.argmax(doc2term)"
   ]
  },
  {
   "cell_type": "code",
   "execution_count": null,
   "metadata": {},
   "outputs": [],
   "source": []
  }
 ],
 "metadata": {
  "kernelspec": {
   "display_name": "Python 3",
   "language": "python",
   "name": "python3"
  },
  "language_info": {
   "codemirror_mode": {
    "name": "ipython",
    "version": 3
   },
   "file_extension": ".py",
   "mimetype": "text/x-python",
   "name": "python",
   "nbconvert_exporter": "python",
   "pygments_lexer": "ipython3",
   "version": "3.8.1"
  }
 },
 "nbformat": 4,
 "nbformat_minor": 4
}
