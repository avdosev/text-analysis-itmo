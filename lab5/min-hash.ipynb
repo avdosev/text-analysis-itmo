{
 "cells": [
  {
   "cell_type": "code",
   "execution_count": 1,
   "metadata": {},
   "outputs": [],
   "source": [
    "import numpy as np\n",
    "import pandas as pd\n",
    "import json\n",
    "import scipy.sparse as sp\n",
    "import os\n",
    "import re\n",
    "from itertools import chain\n",
    "import random"
   ]
  },
  {
   "cell_type": "code",
   "execution_count": 35,
   "metadata": {},
   "outputs": [],
   "source": [
    "os.chdir('C:/projects/itmo/text-anal/')\n",
    "random.seed(69)\n",
    "MIN_HASH_SIZE = 64"
   ]
  },
  {
   "cell_type": "code",
   "execution_count": 3,
   "metadata": {},
   "outputs": [],
   "source": [
    "def load_documents():\n",
    "    docs = pd.read_csv('data/Tweets.csv')\n",
    "    return list(enumerate(docs['text'].values.astype(str)))"
   ]
  },
  {
   "cell_type": "code",
   "execution_count": 4,
   "metadata": {},
   "outputs": [],
   "source": [
    "documents = load_documents()"
   ]
  },
  {
   "cell_type": "code",
   "execution_count": 5,
   "metadata": {},
   "outputs": [
    {
     "data": {
      "text/plain": [
       "[(0, ' I`d have responded, if I were going'),\n",
       " (1, ' Sooo SAD I will miss you here in San Diego!!!'),\n",
       " (2, 'my boss is bullying me...'),\n",
       " (3, ' what interview! leave me alone')]"
      ]
     },
     "execution_count": 5,
     "metadata": {},
     "output_type": "execute_result"
    }
   ],
   "source": [
    "documents[:4]"
   ]
  },
  {
   "cell_type": "code",
   "execution_count": 6,
   "metadata": {},
   "outputs": [],
   "source": [
    "def tokenize(documents):\n",
    "    sep = re.compile(r'[\\W_]+')\n",
    "    wnsplit = re.compile(r'[`\\'\"-=]')\n",
    "    result = []\n",
    "    for doc_id, doc in documents:\n",
    "        doc = re.sub(wnsplit, '', doc)\n",
    "        result.append((doc_id, [word for word in re.split(sep, doc.lower()) if len(word) != 0]))\n",
    "    return result"
   ]
  },
  {
   "cell_type": "code",
   "execution_count": 7,
   "metadata": {},
   "outputs": [],
   "source": [
    "doc2terms = tokenize(documents)"
   ]
  },
  {
   "cell_type": "code",
   "execution_count": 8,
   "metadata": {
    "scrolled": true
   },
   "outputs": [
    {
     "data": {
      "text/plain": [
       "[(0, ['id', 'have', 'responded', 'if', 'i', 'were', 'going']),\n",
       " (1,\n",
       "  ['sooo', 'sad', 'i', 'will', 'miss', 'you', 'here', 'in', 'san', 'diego']),\n",
       " (2, ['my', 'boss', 'is', 'bullying', 'me']),\n",
       " (3, ['what', 'interview', 'leave', 'me', 'alone'])]"
      ]
     },
     "execution_count": 8,
     "metadata": {},
     "output_type": "execute_result"
    }
   ],
   "source": [
    "doc2terms[:4]"
   ]
  },
  {
   "cell_type": "code",
   "execution_count": 36,
   "metadata": {},
   "outputs": [],
   "source": [
    "bag_of_words = sorted(set(chain.from_iterable(terms for doc_id, terms in doc2terms)))\n",
    "bag_of_words.append('--unknown--')"
   ]
  },
  {
   "cell_type": "code",
   "execution_count": 10,
   "metadata": {},
   "outputs": [
    {
     "data": {
      "text/plain": [
       "['a', 'aa', 'aaa', 'aaaa']"
      ]
     },
     "execution_count": 10,
     "metadata": {},
     "output_type": "execute_result"
    }
   ],
   "source": [
    "bag_of_words[:4]"
   ]
  },
  {
   "cell_type": "code",
   "execution_count": 11,
   "metadata": {},
   "outputs": [
    {
     "data": {
      "text/plain": [
       "27838"
      ]
     },
     "execution_count": 11,
     "metadata": {},
     "output_type": "execute_result"
    }
   ],
   "source": [
    "len(bag_of_words)"
   ]
  },
  {
   "cell_type": "code",
   "execution_count": 37,
   "metadata": {},
   "outputs": [],
   "source": [
    "def make_shufled(terms_size, count):\n",
    "    def shuffled(lst):\n",
    "        lst = list(lst)\n",
    "        random.shuffle(lst)\n",
    "        return lst\n",
    "    return [ shuffled(range(terms_size)) for _ in range(count) ]"
   ]
  },
  {
   "cell_type": "code",
   "execution_count": 38,
   "metadata": {},
   "outputs": [],
   "source": [
    "shufled_indexes = make_shufled(len(bag_of_words), MIN_HASH_SIZE)"
   ]
  },
  {
   "cell_type": "markdown",
   "metadata": {},
   "source": [
    "| name | value |\n",
    "| --- | --- |\n",
    "shufled_indexes | list(indexes) \n",
    "indexes | list(index) \n",
    "index | int \\[0, len(bag_of_words)\\]"
   ]
  },
  {
   "cell_type": "code",
   "execution_count": 113,
   "metadata": {},
   "outputs": [],
   "source": [
    "word2id = {\n",
    "    word: i for i, word in enumerate(bag_of_words)\n",
    "}"
   ]
  },
  {
   "cell_type": "code",
   "execution_count": 30,
   "metadata": {},
   "outputs": [],
   "source": [
    "# doc2word = np.zeros((len(bag_of_words), len(doc2terms)))\n",
    "\n",
    "# for doc_id, terms in doc2terms:\n",
    "#     for term in terms:\n",
    "#         word_index = word2id[term]\n",
    "#         doc2word[word_index, doc_id] = 1"
   ]
  },
  {
   "cell_type": "code",
   "execution_count": 70,
   "metadata": {},
   "outputs": [],
   "source": [
    "from numba import njit, typed"
   ]
  },
  {
   "cell_type": "code",
   "execution_count": 122,
   "metadata": {},
   "outputs": [],
   "source": [
    "np_sh_ind = np.array(shufled_indexes)\n",
    "\n",
    "def minhash(doc_terms):\n",
    "    terms = doc_terms if len(doc_terms) != 0 else ['--unknown--']\n",
    "    word_indexes = list({word2id[word] if word in word2id else word2id['--unknown--'] for word in terms})\n",
    "    return minhash_jit(typed.List(word_indexes), np_sh_ind)\n",
    "\n",
    "@njit\n",
    "def minhash_jit(word_indexes, shufled_indexes):\n",
    "    h = np.zeros(len(shufled_indexes), dtype=np.int64)\n",
    "    \n",
    "    for i, indexes in enumerate(shufled_indexes):\n",
    "        for j, index in enumerate(indexes):\n",
    "            if index in word_indexes:\n",
    "                h[i] = j\n",
    "                break\n",
    "        else:\n",
    "            h[i] = len(indexes)\n",
    "    return h\n"
   ]
  },
  {
   "cell_type": "code",
   "execution_count": 124,
   "metadata": {},
   "outputs": [
    {
     "data": {
      "text/plain": [
       "[(0,\n",
       "  array([ 1187,  5663,  7537,  1305,  1364,  2901,  1503,  4328,  6420,\n",
       "          2216,  1255,   949,  8683,  9545,  7280,  7375, 11167,  2763,\n",
       "          1241,  3230,  9234,  5429,  5271,  4385,   357,  4465,  8283,\n",
       "          2352,  3660,  7953,  2593, 14961,  3478,  1456,   427,  1572,\n",
       "          7307,  1008,  2718,  1822,  7352,   586, 13349,   489,  9224,\n",
       "           647,  3420,  1646,  3155,  7159,  3643,  1651,    12,  3319,\n",
       "          2307,  4117,  7992,  1781,   563,   684, 15769,  5572,  1811,\n",
       "           479], dtype=int64)),\n",
       " (1,\n",
       "  array([  145,  2274,  4429,  2769,  1364,  3004,  1546,  5071,   227,\n",
       "          5334,   614,   949,  1440,  2274,   508,   435,   649,  2445,\n",
       "         10445,  1198,   375,  1740,  2602,  6216,   357,  3362,   464,\n",
       "          2255,  1662,   564,  1143,  1988,  2621,  1718,  1181,   324,\n",
       "          4794,  2565,  4749,  4082,  7415,   172,  1774,  2361,  2264,\n",
       "          3335,  4789,   898, 10010,  2558,  3775,  1177,  3062,  3976,\n",
       "           249,   476,   716,  4601,  2343,  2085,  1534,  2708,  7060,\n",
       "           955], dtype=int64)),\n",
       " (2,\n",
       "  array([ 7720,  1189,  3051,   239, 11429,  1379,  2366,   595,   296,\n",
       "          4514,  1107,   923,  1023,  8371,  3107,  2524,  9225,   316,\n",
       "         15600,  1911,  3988, 10126,   825,  2740,  1291,  7858,   127,\n",
       "          4850,   955,  4914,  3769,  3190,  2157,  1798,  9700,  7907,\n",
       "          2469,  4200,  9013,  3001,  1278,   762,  4154,  5660,  5096,\n",
       "           740, 14558,  1521,  1300,  4270,  1612, 10236,  4793,  5734,\n",
       "          9404,  2354,  2494,  5831,  6726,  1815, 12205,  3470,  1735,\n",
       "          5005], dtype=int64)),\n",
       " (3,\n",
       "  array([ 4283,  3440,  3051,   239,  5774,   312,  2684,   595,   296,\n",
       "          6559,   593,  5596,   176,  3006,  3107,  2524,  1776, 11331,\n",
       "           471,  6187,  3988,  3801,   825,  2740,  4509,  2745,   127,\n",
       "          1728,  6573,  3770,  1395,  3190,  5663,    57, 11612,  7907,\n",
       "          2469,    20,  9013,  2774,  3080,  1307,  2243,   426,    82,\n",
       "          4666, 18228,  1521,  4574,   331,  5623, 10162,  5922,  3419,\n",
       "          9404,  1737,  1192,  2169,  3628,  1815,  9447,  1443,  6196,\n",
       "          2480], dtype=int64))]"
      ]
     },
     "execution_count": 124,
     "metadata": {},
     "output_type": "execute_result"
    }
   ],
   "source": [
    "doc2minhash = [(doc_id, minhash(terms)) for doc_id, terms in doc2terms]\n",
    "\n",
    "doc2minhash[:4]"
   ]
  },
  {
   "cell_type": "code",
   "execution_count": 126,
   "metadata": {},
   "outputs": [],
   "source": [
    "from sklearn.metrics import accuracy_score as accuracy"
   ]
  },
  {
   "cell_type": "code",
   "execution_count": 130,
   "metadata": {},
   "outputs": [
    {
     "data": {
      "text/plain": [
       "0.046875"
      ]
     },
     "execution_count": 130,
     "metadata": {},
     "output_type": "execute_result"
    }
   ],
   "source": [
    "accuracy(doc2minhash[0][1], doc2minhash[1][1])"
   ]
  },
  {
   "cell_type": "code",
   "execution_count": 168,
   "metadata": {},
   "outputs": [],
   "source": [
    "def similar(doc, boundary=0.2):\n",
    "    terms = tokenize([(0, doc)])[0][1]\n",
    "    print(terms)\n",
    "    doc_hash = minhash(terms)\n",
    "    \n",
    "    for doc_id, other_hash in doc2minhash:\n",
    "        acc = accuracy(doc_hash, other_hash)\n",
    "        if acc > boundary:\n",
    "            yield (doc_id, acc)\n",
    "            \n",
    "def print_similar_docs(doc):\n",
    "    print('ORIGINAL:', doc)\n",
    "    print('----------------------------')\n",
    "    for doc_id, acc in sorted(similar(doc), key=lambda x: -x[1]):\n",
    "        print('{0:<6} - {1:.2%} : {2}'.format(doc_id, acc, documents[doc_id][1]))\n",
    "    print('----------------------------')\n"
   ]
  },
  {
   "cell_type": "code",
   "execution_count": 169,
   "metadata": {},
   "outputs": [
    {
     "name": "stdout",
     "output_type": "stream",
     "text": [
      "ORIGINAL: i want to go to music tonight but i lost my voice.\n",
      "----------------------------\n",
      "['i', 'want', 'to', 'go', 'to', 'music', 'tonight', 'but', 'i', 'lost', 'my', 'voice']\n",
      "13     - 100.00% : i want to go to music tonight but i lost my voice.\n",
      "8077   - 42.19% : I Want To Go See Up. But I Don`t Want To Go With My Mom And Brother.\n",
      "26688  - 37.50% : I have to work tonight  But I get my paycheck!\n",
      "5379   - 35.94% :  I want to go with you !  But I`m tierd....\n",
      "17507  - 35.94% : don`t want to go to work tonight\n",
      "3300   - 34.38% : I lost my voice\n",
      "19481  - 34.38% : I love my daddy, but I don`t want to go to his house today.\n",
      "25026  - 34.38% : Where`s my bus? I want to go home!\n",
      "27162  - 34.38% : Who`s going out tonight? I want to go out  ****\n",
      "7656   - 32.81% : i need to read  fic again, but i lost it\n",
      "9329   - 32.81% :  we r the lost troopers. But I want to know\n",
      "11462  - 32.81% :  but but but. I want steak\n",
      "15355  - 32.81% : I want to go see Up\n",
      "27286  - 32.81% :  Yaay! I was supposed to go, but I missed it\n",
      "2496   - 31.25% : http://bit.ly/UnRyF  I want this, but...\n",
      "9942   - 31.25% :  I know! But I still want to see it\n",
      "10690  - 31.25% :   I want to go to the pub. Boooo.\n",
      "6902   - 29.69% : need to go to work soonish but i really dont want to  also trying to save money... life is fab (not)\n",
      "8036   - 29.69% : I want to go shopping tomorrow, but I have to work  Buy me things, you know you want to!\n",
      "10731  - 29.69% : own 2nit but i cant go.\n",
      "12154  - 29.69% : i wanna see `up` tonight, but no one will go with me. whhhyyy\n",
      "16295  - 29.69% : I want to go to Universal too!\n",
      "16563  - 29.69% :  OMG I WANT TO GO TO THE BEACH!!!\n",
      "18156  - 29.69% : I really want to go see UP!  haha. Tooo cute! (:\n",
      "20787  - 29.69% :  i would but i have nowhere to go and no one to go with\n",
      "26758  - 29.69% :  im so jealous! I want to go to ny\n",
      "1646   - 28.12% :  but I don`t want to hurt you\n",
      "2197   - 28.12% :  I wanna go but my car not here...\n",
      "9621   - 28.12% : i want to go out tonight, but i ain`t go no money and no one to go with   any takers???\n",
      "12277  - 28.12% :  i want you to go walking with me!! but i still miss my satan\n",
      "17973  - 28.12% :  OMG i want to go too!  hahaha\n",
      "18065  - 28.12% : REALLY want to go to Maker Faire tomorrow but I am SO SICK.  #makerfaire\n",
      "18697  - 28.12% : i lost my phone.\n",
      "19720  - 28.12% : ok, I want to quit my job.....\n",
      "21340  - 28.12% : I want to see Terminator, but everyone`s already seen it\n",
      "25861  - 28.12% : I *really* want to go to the  concert tomorrow!!\n",
      "26514  - 28.12% :  i can`t go tonight   *Cait*\n",
      "2269   - 26.56% :  I need to go shopping with you...but I need to save my money\n",
      "2527   - 26.56% : http://bit.ly/Wl9yL  i want to go here\n",
      "2961   - 26.56% :  i want to comment but don`t understand what you`re saying\n",
      "3043   - 26.56% : wants to go out tonight but cant get home\n",
      "4110   - 26.56% : I want my Katie.\n",
      "4374   - 26.56% :  i dont want you to go to india\n",
      "5269   - 26.56% :  I want to call you but it would cost to much  But Maybe my parents will say okay =D\n",
      "7279   - 26.56% : i want to cry\n",
      "8246   - 26.56% : I don`t want to quit my job.\n",
      "10742  - 26.56% : I`m bored... Don`t want to stay home tonight, but don`t want to spend money  blah\n",
      "12426  - 26.56% : but i thought `summer hours` meant i was supposed to get to go home at 4.....\n",
      "13508  - 26.56% : wish i didnt have to go to work tonight\n",
      "13709  - 26.56% : : probably not  I want to go home\n",
      "17725  - 26.56% : I don`t want to go to the 3-hour lecture\n",
      "18659  - 26.56% :  go and see my puppy! I don`t want to be there alone\n",
      "19978  - 26.56% : At home now. Feeling very tired. I want to take a nap but I can`t.\n",
      "24197  - 26.56% : I missed you yesterday, Lacey.    We get to go to granulation tonight, though.\n",
      "25076  - 26.56% : I need to go to sleep before 4am tonight...  ... So exhausted.\n",
      "25649  - 26.56% :  I want to go back to school too *sigh* - but I am too poor\n",
      "26134  - 26.56% : don`t want to go!!!\n",
      "27112  - 26.56% : i want so bad to go to the mcfly`s concert\n",
      "27247  - 26.56% :  I certainly know the feeling. Wesley is sleeping and I want to go get something to eat but I only have $4.38 in my account\n",
      "120    - 25.00% :  I had it! On my itunes, but then I lost all my songs.\n",
      "672    - 25.00% : I lost my artistic abilities\n",
      "1599   - 25.00% : Just got back from school! Ugh I don`t want to go to the dance tonight\n",
      "2181   - 25.00% : Trying to go to sleep but no luck  I think i`m sick... =S\n",
      "2340   - 25.00% : I should go shower but FFAF is **** distraaaaacting\n",
      "4508   - 25.00% : _bmac I knooow, I want to sail\n",
      "6238   - 25.00% : I want to go to VP, but no one is willing to come with me.\n",
      "8582   - 25.00% : _cunning I gotta go to my cousin`s grad party\n",
      "9375   - 25.00% : waaah.. I can`t open my eyes wider! i wanna go back to sleep but i can`t sleep properly..\n",
      "9983   - 25.00% : Happy Birthday to meeeee!! Excited to go out tonight, but I`m gonna miss my girl\n",
      "12781  - 25.00% : I want to change my twitter name but I can`t think of anything\n",
      "13782  - 25.00% : Um. Why can`t I write **** tonight? I like ****. I want to write ****. Yet, nothing. No ****.\n",
      "14324  - 25.00% : Off to work I go!\n",
      "17088  - 25.00% : I want to join but i live in michigan\n",
      "18092  - 25.00% :  NICK WTF I WAS GONNA GO BUT I HAVE NO RIDE. Boo\n",
      "19992  - 25.00% : wishing i could go to CaBo tonight\n",
      "21685  - 25.00% :   i want more but its just so bittersweet lol\n",
      "25375  - 25.00% : Decided not to go...I want to see my sweetie  But I can`t.\n",
      "26045  - 25.00% : I have to go to work with out my  and \n",
      "26077  - 25.00% : doesn`t want to go to work....\n",
      "26399  - 25.00% : Bye bye edinburgh  i don`t want to leave\n",
      "408    - 23.44% : Dosen`t Want To Go To Work Tomorrow\n",
      "1528   - 23.44% : I wanna go to the Borgata tonight if Rich is playing.\n",
      "3028   - 23.44% : i wanna do something tonight, but that doesnt look very promising\n",
      "3143   - 23.44% :  I want to play\n",
      "3648   - 23.44% :  i know. But.\n",
      "4283   - 23.44% : _lpz yeah text me!!! i wnat to go!!!!! but my car is broken!!\n",
      "6254   - 23.44% : I don`t want to apply for jobs!!!\n",
      "7652   - 23.44% : watching The Uninvited in my room. Can`t wait to go home. But I have to go to the Deid first.\n",
      "8181   - 23.44% :  ya she prob does but i dont want to no about it\n",
      "8242   - 23.44% : I want to see Drag Me to Hell. But I get the feeling none of my friends will go w/ me\n",
      "8334   - 23.44% : i really want to ring  but it costs 2 much  dam you credit crunch\n",
      "8524   - 23.44% : I want to hang out and play!  But I can`t.  Fiddle Faddle on my workload!\n",
      "8890   - 23.44% :  i want 2 but i dinna hink it`ll get shown in elgin n got nae1 2 go with(n)\n",
      "9561   - 23.44% : really want to go to the nets\n",
      "10064  - 23.44% : Now I want ice cream but it`s so expensive.\n",
      "10589  - 23.44% :  I want to hit that\n",
      "10681  - 23.44% :  I don`t even want to know WHY you know about VHEMT, but don`t go - we`d miss you\n",
      "13597  - 23.44% : I wasn`t going to go out tonight but looks like I`ll be heading over to Main Street\n",
      "17171  - 23.44% : I want Dec to be my dad\n",
      "17413  - 23.44% :  But but I dun wanna\n",
      "17757  - 23.44% : ooh i feel so sleepy... its 10:24 a.m. and i dont wanna go to school 2day  but i have to...\n",
      "17996  - 23.44% : Horrid dream. I suspect I will have to cancel my plans tonight...\n",
      "18370  - 23.44% : want my new lappytop now, but the site says it won`t be here till 6/9\n",
      "18730  - 23.44% : I had so much fun tonight!! But i am soo excited to get home and go to sleep\n",
      "21000  - 23.44% : Morning. Forgot my daily booth yesterday.. shocking! I want to sit in the garden today and read but we have a huge bees nest\n",
      "21649  - 23.44% :  i wanted to go for my birthday...\n",
      "23242  - 23.44% :  I want to be at \n",
      "23873  - 23.44% : i need to speak with ! but i left my phone at home\n",
      "26748  - 23.44% : I want to panic\n",
      "1756   - 21.88% : Getting very frustrated by people who don`t know what they want... can`t wait to go home tonight...\n",
      "1831   - 21.88% : gaahhhh! i want my #comet09 stream back...\n",
      "2681   - 21.88% : tonight my bed has been the Enterprise and I was Mrs Kirk\n",
      "4591   - 21.88% : had 2 leave the mrs  cuz i have to go 2 work  really didn`t want to.\n",
      "5035   - 21.88% : To bed I go   Nighty Night\n",
      "7372   - 21.88% : _ i wanna go to the pub\n",
      "7456   - 21.88% : I want some Starbucks..\n",
      "7525   - 21.88% : My tummy hurts  go away cramps! I hate chuu!!!!\n",
      "8603   - 21.88% : I want him to call\n",
      "8722   - 21.88% : _casagrande haha thanks. but if it keeps raining i might not go\n",
      "8874   - 21.88% :  ME! I wanted to go.\n",
      "9854   - 21.88% :  I want to come over\n",
      "10798  - 21.88% :  Alright, sorry. But I think you should go anyways\n",
      "10910  - 21.88% :  ohhh. hm. I don`t want to screw mine up\n",
      "12654  - 21.88% : ahh sore throat and tired. want to go back to bed. but have work\n",
      "14321  - 21.88% : I want some cookies.\n",
      "14928  - 21.88% : I don`t want to work tomorrow. I don`t feel good. Haven`t felt good in 4 days =/ My body needs rest but my mind won`t slow down!\n",
      "16659  - 21.88% :  but i know i can`t\n",
      "16811  - 21.88% : Gonna go round up some DVDs to sell...  I will miss them, but I need money!\n",
      "17424  - 21.88% : Oh that just made my evening.  I forgot Merlin was on tonight!  But its a toss up between Rove and Spielburg on Spielburg on ABC2 choices.\n",
      "17952  - 21.88% :  kayla & I went to go visit you but they wouldn`t let us in school!\n",
      "18514  - 21.88% : I want it to rain today! Like full thunderstorm style! But it probably won`t\n",
      "18923  - 21.88% : Looks like i can go see jeffree star afterall. I told my dad he`d hate the music & he said i could go alone\n",
      "19430  - 21.88% :  ugh! Tis so warm outside too  unfair! I want to go read and pack!\n",
      "20171  - 21.88% : I don`t wanna go to work\n",
      "20977  - 21.88% :  Ahhh Music to my ears!\n",
      "21156  - 21.88% : I have test tomorrow but i dont study, then i go very bad\n",
      "21676  - 21.88% :  what r u doing tonight bro?I wanna go out\n",
      "22654  - 21.88% : this chipotle line is out the door! but I really want it!!\n",
      "22854  - 21.88% :  http://twitpic.com/4jjlc - I love it! If it`s pouring rain, I still want to go.\n",
      "23147  - 21.88% :  hey, I can`t make it to Makers tonight\n",
      "24091  - 21.88% : I want to party down!\n",
      "24459  - 21.88% :  I want to SOOOOOOO BAD!!!\n",
      "24663  - 21.88% : i dont want the seniors to leave\n",
      "24667  - 21.88% : _express i didnt get to see it tonight\n",
      "25394  - 21.88% :  -- No fair, I want a sticker but I just moved away from London\n",
      "25506  - 21.88% : hm i`m happy but i want to join drama practice today !\n",
      "25666  - 21.88% : right guys i have to go\n",
      "25761  - 21.88% :  - Yea, I really need to learn to reload my own\n",
      "26610  - 21.88% : TGIF but its so rainy and blah outside!  I need sun   Trying to figure out what to do tonight, I want to go to Prov to the Hookah bar.\n",
      "27214  - 21.88% : ''have you the e-mail from Miley ???? I want to write with her but I cant\n",
      "27421  - 21.88% : Idk yet!!! _Gyrl I wanna go soon tho...but I want more tweeps to be there\n",
      "1634   - 20.31% : I wanted to see the story on ACORN tonight on Glen Beck but I missed it\n",
      "2038   - 20.31% :  Oh, I totally want to see Star Trek!  But Kristine had already seen it with her hubby.\n",
      "2573   - 20.31% :  My name is Chad, but I won`t be here tomorrow\n",
      "2772   - 20.31% : i really want a blackberry  my sidekick is hella wack. night\n",
      "2993   - 20.31% : I want to play audition with Anna ~ -mHc-SMOOCH\n",
      "3090   - 20.31% :  I do! But I have to go to a dang wedding in madison\n",
      "3912   - 20.31% :  I want to talk with but the calls are so expensive  I LOVE YOU\n",
      "4269   - 20.31% : really wants to go see AI tonight.\n",
      "4548   - 20.31% : I wanna go home, but I can`t cause the customers won`t leave... And my boss won`t let me leave either\n",
      "4817   - 20.31% : I want noms\n",
      "5170   - 20.31% : Come on bell, RING. I want to go outside.\n",
      "5248   - 20.31% : I just want  to Sleep.\n",
      "6758   - 20.31% : I want to buy this great album but unfortunately i dont hav enuff funds  its 'long time noisy'\n",
      "6761   - 20.31% :  I have a friend who loves that spot. I want to go\n",
      "7221   - 20.31% : UGG WANT TO GO TO KAYLEN HOUSE BUT I CANT FINNA BE BORED THIS WEEKEND!!! UUURGG WANNA SPEND DA NITE  AND GO SEE UP AND GO SHOPPING\n",
      "7228   - 20.31% : wishing I was anywhere but here...\n",
      "7307   - 20.31% : I want to watch the movie 'Up' but no one wants to watch it with me\n",
      "7398   - 20.31% :  $300 later... I feel so good! But guilty\n",
      "7646   - 20.31% : I want to be like Horatio Caine\n",
      "8006   - 20.31% : , i missed everyone tonight\n",
      "8389   - 20.31% : is really, really bored... I guess I will go to bed\n",
      "8677   - 20.31% : i want some followers\n",
      "8965   - 20.31% : **** I hate this weather this **** sucks! I wanted to go out tonight but not n no mess like this\n",
      "9829   - 20.31% : Yay, I should be able to make it to 700 updates tonight  lame compared to other ppls i know lol\n",
      "10096  - 20.31% : i lost my nintendogs, it`s very upsetting.\n",
      "10263  - 20.31% :  i wish for kiau to go cat heaven too. and meet my seuss\n",
      "10809  - 20.31% : I want some candy!!!\n",
      "11341  - 20.31% :  I know. I want it to come bec I`m excited, but then I don`t bec it`s gonna go by so fast & then it will be over\n",
      "11459  - 20.31% : I`m all stuffted up but I gotta gets up & go netball\n",
      "13045  - 20.31% : I want my real keys back\n",
      "15423  - 20.31% : really wanted to go to that gig tonight\n",
      "16043  - 20.31% : ahhhhh **** it..... none of my friends want to see it... and they don`t wanna chill tonight... so its just me myself and i\n",
      "16283  - 20.31% : #bigfanfriday 2day, & i go & friggin loose 1, life sucks!!\n",
      "16874  - 20.31% : Listening to some nice music.. I think I should go to bed now so I get nice and rested but i`ll miss Russel Brand`s Ponderland\n",
      "17459  - 20.31% :  yeah, I have revision to do, but gonna go starbucks instead\n",
      "17665  - 20.31% :  Sims 2 owns my life lately! LOL I want to get Sims 3, but my computer can`t support it.\n",
      "18251  - 20.31% :  i want u to know i don`t like u hun  j/p u know we go back\n",
      "18533  - 20.31% : i really wanted to go to surfers today\n",
      "19146  - 20.31% : All I want is to see him tonight.  and I know it`s not gonna happen.\n",
      "19556  - 20.31% :  omg yes!!!!!!! but I have to get ready for work early tonight  I have payroll distribution duty\n",
      "19559  - 20.31% : Going back to my house to pick up some dvds for bapang and pick dito`s up but forgot to pick up other dvds for dito, so I have to go back\n",
      "19850  - 20.31% : I think I`m going to go outside and have a very John Cage moment   Music majors rejoice!\n",
      "19896  - 20.31% :  I was gonna go for aiden but I had a girl so I went with scarlet\n",
      "21536  - 20.31% : I want a burrito but I still have 30 more minutes of work\n",
      "22229  - 20.31% : I hate traffic. Dallas is nothing, but traffic!\n",
      "22254  - 20.31% :  if I could make it to Philadelphia this year I would be there!! but sadly, i cannot\n",
      "22763  - 20.31% : i want candy!!!\n",
      "22971  - 20.31% : tried  to sleep but i cant bout 2 call tisha\n",
      "23686  - 20.31% :  I WANNA GO.\n",
      "25596  - 20.31% : is bored. my BFF doesn`t want to hang out\n",
      "26057  - 20.31% :  off to the cheese counter I go! Thanks\n",
      "26507  - 20.31% : working!   I am so ready to go.\n",
      "27017  - 20.31% : boo (but will I listen?)\n",
      "27320  - 20.31% : shopping! Migawd. i don`t want to surf the net anymore.\n",
      "----------------------------\n"
     ]
    }
   ],
   "source": [
    "print_similar_docs('i want to go to music tonight but i lost my voice.')"
   ]
  },
  {
   "cell_type": "code",
   "execution_count": null,
   "metadata": {},
   "outputs": [],
   "source": []
  }
 ],
 "metadata": {
  "kernelspec": {
   "display_name": "Python 3",
   "language": "python",
   "name": "python3"
  },
  "language_info": {
   "codemirror_mode": {
    "name": "ipython",
    "version": 3
   },
   "file_extension": ".py",
   "mimetype": "text/x-python",
   "name": "python",
   "nbconvert_exporter": "python",
   "pygments_lexer": "ipython3",
   "version": "3.8.1"
  }
 },
 "nbformat": 4,
 "nbformat_minor": 4
}
