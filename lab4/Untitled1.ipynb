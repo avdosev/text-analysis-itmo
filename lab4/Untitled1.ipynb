{
 "cells": [
  {
   "cell_type": "code",
   "execution_count": 1,
   "metadata": {},
   "outputs": [],
   "source": [
    "import os\n",
    "os.chdir('C:/projects/itmo/text-anal/')"
   ]
  },
  {
   "cell_type": "code",
   "execution_count": 2,
   "metadata": {},
   "outputs": [],
   "source": [
    "import fasttext\n",
    "import fasttext.util"
   ]
  },
  {
   "cell_type": "code",
   "execution_count": 6,
   "metadata": {},
   "outputs": [],
   "source": [
    "import pandas as pd\n",
    "import numpy as np"
   ]
  },
  {
   "cell_type": "code",
   "execution_count": 7,
   "metadata": {},
   "outputs": [
    {
     "name": "stdout",
     "output_type": "stream",
     "text": [
      "       textID                                               text sentiment\n",
      "0  98e200a8da                              Because I love my job  positive\n",
      "1  4e2a0dbf92                             I hate having headrush  negative\n",
      "2  9bfe71fa3f                      blogging..it`s my new passion  positive\n",
      "3  f358968122  I have to go clothes shopping tomorrow  I hate...  negative\n",
      "4  f38b1d3dff   Ur going 2 get tired of hearing from me, but ...   neutral\n",
      "19236\n"
     ]
    }
   ],
   "source": [
    "train = pd.read_csv('data/tweets_train.csv')\n",
    "test = pd.read_csv('data/tweets_test.csv')\n",
    "print(train.head())\n",
    "print(len(train))"
   ]
  },
  {
   "cell_type": "code",
   "execution_count": 10,
   "metadata": {},
   "outputs": [],
   "source": [
    "with open('data/ft_tweets_train.txt', 'w', encoding='utf-8') as f:\n",
    "    for item in train.iloc:\n",
    "        print('__label__'+item['sentiment'], item['text'], file=f)"
   ]
  },
  {
   "cell_type": "code",
   "execution_count": 72,
   "metadata": {},
   "outputs": [],
   "source": [
    "n = 5\n",
    "model = fasttext.train_supervised(input=\"data/ft_tweets_train.txt\", epoch=20)"
   ]
  },
  {
   "cell_type": "code",
   "execution_count": 73,
   "metadata": {},
   "outputs": [],
   "source": [
    "result = [model.predict(tweet) for tweet in test['text'].astype(str)]"
   ]
  },
  {
   "cell_type": "code",
   "execution_count": 74,
   "metadata": {},
   "outputs": [
    {
     "data": {
      "text/plain": [
       "[(('__label__negative',), array([0.7305029])),\n",
       " (('__label__positive',), array([0.96692598])),\n",
       " (('__label__neutral',), array([0.48915204])),\n",
       " (('__label__positive',), array([0.99797535])),\n",
       " (('__label__positive',), array([0.6632514])),\n",
       " (('__label__negative',), array([0.95937282])),\n",
       " (('__label__positive',), array([0.62765664])),\n",
       " (('__label__negative',), array([0.4805581])),\n",
       " (('__label__positive',), array([0.72808272])),\n",
       " (('__label__negative',), array([0.86530566]))]"
      ]
     },
     "execution_count": 74,
     "metadata": {},
     "output_type": "execute_result"
    }
   ],
   "source": [
    "result[:10]"
   ]
  },
  {
   "cell_type": "code",
   "execution_count": 75,
   "metadata": {},
   "outputs": [],
   "source": [
    "prefix_len = len('__label__')\n",
    "result = [item[0][0][prefix_len:] for item in result]"
   ]
  },
  {
   "cell_type": "code",
   "execution_count": 76,
   "metadata": {},
   "outputs": [
    {
     "data": {
      "text/plain": [
       "['negative',\n",
       " 'positive',\n",
       " 'neutral',\n",
       " 'positive',\n",
       " 'positive',\n",
       " 'negative',\n",
       " 'positive',\n",
       " 'negative',\n",
       " 'positive',\n",
       " 'negative']"
      ]
     },
     "execution_count": 76,
     "metadata": {},
     "output_type": "execute_result"
    }
   ],
   "source": [
    "result[:10]"
   ]
  },
  {
   "cell_type": "code",
   "execution_count": 77,
   "metadata": {},
   "outputs": [],
   "source": [
    "pd.DataFrame({\n",
    "    'textID': test['textID'],\n",
    "    'sentiment': result\n",
    "}).to_csv(f'data/submissions/5-fasttext-nn-{n}gram.csv', index=False)"
   ]
  }
 ],
 "metadata": {
  "kernelspec": {
   "display_name": "Python 3",
   "language": "python",
   "name": "python3"
  },
  "language_info": {
   "codemirror_mode": {
    "name": "ipython",
    "version": 3
   },
   "file_extension": ".py",
   "mimetype": "text/x-python",
   "name": "python",
   "nbconvert_exporter": "python",
   "pygments_lexer": "ipython3",
   "version": "3.8.1"
  }
 },
 "nbformat": 4,
 "nbformat_minor": 4
}
